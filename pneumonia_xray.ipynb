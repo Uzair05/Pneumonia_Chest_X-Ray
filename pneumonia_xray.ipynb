{
  "nbformat": 4,
  "nbformat_minor": 0,
  "metadata": {
    "interpreter": {
      "hash": "85c613298e2573a698747096a05ed0fa75bd0f57ffe828e7c5873ae05c08a3c6"
    },
    "kernelspec": {
      "display_name": "Python 3",
      "language": "python",
      "name": "python3"
    },
    "language_info": {
      "codemirror_mode": {
        "name": "ipython",
        "version": 3
      },
      "file_extension": ".py",
      "mimetype": "text/x-python",
      "name": "python",
      "nbconvert_exporter": "python",
      "pygments_lexer": "ipython3",
      "version": "3.8.12"
    },
    "colab": {
      "name": "pneumonia_xray.ipynb",
      "provenance": [],
      "collapsed_sections": []
    },
    "accelerator": "TPU"
  },
  "cells": [
    {
      "cell_type": "markdown",
      "metadata": {
        "id": "tL5WGz6gtxBG"
      },
      "source": [
        "# Pneumonia_Chest_X-Ray\n",
        "\n",
        "CNN image detection of pneumonia from chest xrays.  \n",
        "Project By: [Uzair Bin Asim](https://github.com/Uzair05)"
      ]
    },
    {
      "cell_type": "code",
      "metadata": {
        "id": "x7atDeVEuYyP"
      },
      "source": [
        "from google.colab import drive\n",
        "drive.mount('/content/drive')"
      ],
      "execution_count": null,
      "outputs": []
    },
    {
      "cell_type": "code",
      "metadata": {
        "id": "ilCfhN-8txBP"
      },
      "source": [
        "import os \n",
        "import zipfile"
      ],
      "execution_count": 6,
      "outputs": []
    },
    {
      "cell_type": "markdown",
      "metadata": {
        "id": "ZLAr892ptxBV"
      },
      "source": [
        "## Download dataset\n",
        "Make sure to navigate to the proper directory."
      ]
    },
    {
      "cell_type": "code",
      "metadata": {
        "id": "egy58mzftxBX"
      },
      "source": [
        "#!pip install --upgrade kaggle\n",
        "\n",
        "## Remeber to navigate to proper directory.\n",
        "!cd \"/content/drive/MyDrive/nih_xray\" && kaggle datasets download -d paultimothymooney/chest-xray-pneumonia"
      ],
      "execution_count": null,
      "outputs": []
    },
    {
      "cell_type": "code",
      "metadata": {
        "id": "FH1Rf2kbwJE5"
      },
      "source": [
        "os.chdir(\"/content/drive/MyDrive/nih_xray\") ## Remeber to navigate to proper directory.\n",
        "print(os.getcwd())"
      ],
      "execution_count": null,
      "outputs": []
    },
    {
      "cell_type": "code",
      "metadata": {
        "id": "PzCPA0mHtxBa"
      },
      "source": [
        "try:\n",
        "    if not os.path.isdir(\"./data\"):\n",
        "        os.mkdir(\"./data\")\n",
        "except Exception as err:\n",
        "    print(f\"Error in creating data/:\\t{err}\")\n",
        "\n",
        "if os.path.isfile(\"./chest-xray-pneumonia.zip\"):\n",
        "    localzip = \"./chest-xray-pneumonia.zip\"\n",
        "    with zipfile.ZipFile(localzip, 'r') as zip_ref:\n",
        "        zip_ref.extractall('data/')"
      ],
      "execution_count": 17,
      "outputs": []
    },
    {
      "cell_type": "code",
      "metadata": {
        "id": "62V4BerDtxBd"
      },
      "source": [
        "## Clean the dataspace\n",
        "#!rm -rf data/chest_xray/__MACOSX && cd data/ && find -type f | grep -E \"\\.DS_Store\" | xargs -I{} rm {}"
      ],
      "execution_count": 18,
      "outputs": []
    },
    {
      "cell_type": "markdown",
      "metadata": {
        "id": "6VCXH9m5txBh"
      },
      "source": [
        "## Handle Data\n",
        "Create the train, test, and validation datasets."
      ]
    },
    {
      "cell_type": "code",
      "metadata": {
        "id": "KMx9oZi3z7Zc"
      },
      "source": [
        "!pip install --upgrade tensorflow==2.7"
      ],
      "execution_count": null,
      "outputs": []
    },
    {
      "cell_type": "code",
      "metadata": {
        "id": "z1dInoiitxBi"
      },
      "source": [
        "import numpy as np\n",
        "import pandas as pd\n",
        "import tensorflow as tf ## Using tensorflow==2.7\n",
        "import matplotlib.pyplot as plt"
      ],
      "execution_count": 20,
      "outputs": []
    },
    {
      "cell_type": "code",
      "metadata": {
        "id": "zKF2CeSetxBk"
      },
      "source": [
        "from tensorflow.keras.preprocessing.image import ImageDataGenerator"
      ],
      "execution_count": 21,
      "outputs": []
    },
    {
      "cell_type": "code",
      "metadata": {
        "id": "J96DV5fotxBn"
      },
      "source": [
        "main_path = \"data/chest_xray/chest_xray\"\n",
        "\n",
        "test_dir, train_dir = os.path.join(main_path, \"test\"), os.path.join(main_path, \"train\")\n",
        "validation_dir = os.path.join(main_path, \"val\") "
      ],
      "execution_count": 22,
      "outputs": []
    },
    {
      "cell_type": "code",
      "metadata": {
        "id": "u6pMUnyXtxBp"
      },
      "source": [
        "train_datagen = ImageDataGenerator(\n",
        "    rescale=1.0/255.0, \n",
        "    rotation_range=10, \n",
        "    width_shift_range=0.3, \n",
        "    height_shift_range=0.3, \n",
        "    shear_range=0.2, \n",
        "    zoom_range=0.2, \n",
        "    horizontal_flip=True, \n",
        "    fill_mode='nearest'\n",
        ")\n",
        "test_datagen = ImageDataGenerator(\n",
        "    rescale=1.0/255.0\n",
        ")\n",
        "val_datagen = ImageDataGenerator(\n",
        "    rescale=1.0/255.0\n",
        ")"
      ],
      "execution_count": 23,
      "outputs": []
    },
    {
      "cell_type": "code",
      "metadata": {
        "colab": {
          "base_uri": "https://localhost:8080/"
        },
        "id": "yVUr4mrgtxBr",
        "outputId": "cf37adcb-fbb6-42df-fa64-e1b83e15ae19"
      },
      "source": [
        "train_generator = train_datagen.flow_from_directory(\n",
        "    train_dir, \n",
        "    target_size=(150,150), \n",
        "    class_mode='binary', \n",
        "    batch_size=20\n",
        ")\n",
        "test_generator = test_datagen.flow_from_directory(\n",
        "    test_dir, \n",
        "    target_size=(150,150), \n",
        "    class_mode='binary', \n",
        "    batch_size=20\n",
        ")\n",
        "val_generator = val_datagen.flow_from_directory(\n",
        "    validation_dir, \n",
        "    target_size=(150,150), \n",
        "    class_mode='binary', \n",
        "    batch_size=20\n",
        ")"
      ],
      "execution_count": 24,
      "outputs": [
        {
          "output_type": "stream",
          "name": "stdout",
          "text": [
            "Found 5216 images belonging to 2 classes.\n",
            "Found 624 images belonging to 2 classes.\n",
            "Found 16 images belonging to 2 classes.\n"
          ]
        }
      ]
    },
    {
      "cell_type": "markdown",
      "metadata": {
        "id": "YdTUN6mWtxBu"
      },
      "source": [
        "## Create Model - v2"
      ]
    },
    {
      "cell_type": "code",
      "metadata": {
        "colab": {
          "base_uri": "https://localhost:8080/"
        },
        "id": "qiyJ8j2qtxBv",
        "outputId": "67327c3b-49c7-441a-8b5c-3fb891f572d1"
      },
      "source": [
        "model = tf.keras.models.Sequential([\n",
        "    tf.keras.layers.Conv2D(64, (3,3), activation=tf.nn.relu, padding='same', input_shape=(150,150, 3)),\n",
        "    tf.keras.layers.MaxPooling2D(2,2),\n",
        "    tf.keras.layers.Conv2D(64, (3,3), activation=tf.nn.relu, padding='same'),\n",
        "    tf.keras.layers.MaxPooling2D(2,2),\n",
        "    tf.keras.layers.Conv2D(64, (3,3), activation=tf.nn.relu, padding='same'),\n",
        "    tf.keras.layers.Flatten(), \n",
        "    tf.keras.layers.Dense(512, activation=tf.nn.relu),\n",
        "    tf.keras.layers.Dropout(0.3),\n",
        "    tf.keras.layers.Dense(512, activation=tf.nn.relu),\n",
        "    tf.keras.layers.Dropout(0.3),\n",
        "    tf.keras.layers.Dense(1, activation=tf.nn.sigmoid)\n",
        "])\n",
        "model.compile(optimizer='adam', \n",
        "    loss='binary_crossentropy', \n",
        "    metrics=['accuracy']\n",
        ")\n",
        "model.summary()"
      ],
      "execution_count": 28,
      "outputs": [
        {
          "output_type": "stream",
          "name": "stdout",
          "text": [
            "Model: \"sequential_1\"\n",
            "_________________________________________________________________\n",
            " Layer (type)                Output Shape              Param #   \n",
            "=================================================================\n",
            " conv2d_3 (Conv2D)           (None, 150, 150, 64)      1792      \n",
            "                                                                 \n",
            " max_pooling2d_2 (MaxPooling  (None, 75, 75, 64)       0         \n",
            " 2D)                                                             \n",
            "                                                                 \n",
            " conv2d_4 (Conv2D)           (None, 75, 75, 64)        36928     \n",
            "                                                                 \n",
            " max_pooling2d_3 (MaxPooling  (None, 37, 37, 64)       0         \n",
            " 2D)                                                             \n",
            "                                                                 \n",
            " conv2d_5 (Conv2D)           (None, 37, 37, 64)        36928     \n",
            "                                                                 \n",
            " flatten_1 (Flatten)         (None, 87616)             0         \n",
            "                                                                 \n",
            " dense_3 (Dense)             (None, 512)               44859904  \n",
            "                                                                 \n",
            " dropout_2 (Dropout)         (None, 512)               0         \n",
            "                                                                 \n",
            " dense_4 (Dense)             (None, 512)               262656    \n",
            "                                                                 \n",
            " dropout_3 (Dropout)         (None, 512)               0         \n",
            "                                                                 \n",
            " dense_5 (Dense)             (None, 1)                 513       \n",
            "                                                                 \n",
            "=================================================================\n",
            "Total params: 45,198,721\n",
            "Trainable params: 45,198,721\n",
            "Non-trainable params: 0\n",
            "_________________________________________________________________\n"
          ]
        }
      ]
    },
    {
      "cell_type": "markdown",
      "metadata": {
        "id": "nNm4hWPbtxBw"
      },
      "source": [
        "## Train Model - v1"
      ]
    },
    {
      "cell_type": "code",
      "metadata": {
        "id": "hjEMrDOmtxBx"
      },
      "source": [
        "class myCallback(tf.keras.callbacks.Callback):\n",
        "      def on_epoch_end(self, epoch, logs={}):\n",
        "        accuracy = 0.99 # Percentage Accuracy.\n",
        "        if(logs.get('accuracy') != None) and (logs.get('accuracy') >= accuracy): # Experiment with changing this value\n",
        "          print(f\"\\nReached {accuracy*100}% accuracy so cancelling training!\")\n",
        "          self.model.stop_training = True\n",
        "\n",
        "callbacks = myCallback()"
      ],
      "execution_count": 29,
      "outputs": []
    },
    {
      "cell_type": "code",
      "metadata": {
        "colab": {
          "base_uri": "https://localhost:8080/"
        },
        "id": "-gvF4bwYtxBz",
        "outputId": "9878365f-7d55-4018-e0da-b39c15084d06"
      },
      "source": [
        "## Using Google Colab TPU\n",
        "history = model.fit(\n",
        "    train_generator, \n",
        "    validation_data = test_generator,\n",
        "    steps_per_epoch = 259, \n",
        "    epochs = 10,\n",
        "    validation_steps = 30,\n",
        "    verbose = 1, \n",
        "    callbacks=[callbacks]\n",
        ")"
      ],
      "execution_count": 30,
      "outputs": [
        {
          "output_type": "stream",
          "name": "stdout",
          "text": [
            "Epoch 1/10\n",
            "259/259 [==============================] - 514s 2s/step - loss: 0.5219 - accuracy: 0.7326 - val_loss: 0.6154 - val_accuracy: 0.6317\n",
            "Epoch 2/10\n",
            "259/259 [==============================] - 509s 2s/step - loss: 0.4499 - accuracy: 0.7724 - val_loss: 0.9189 - val_accuracy: 0.6233\n",
            "Epoch 3/10\n",
            "259/259 [==============================] - 502s 2s/step - loss: 0.3515 - accuracy: 0.8418 - val_loss: 0.6225 - val_accuracy: 0.7300\n",
            "Epoch 4/10\n",
            "259/259 [==============================] - 501s 2s/step - loss: 0.3056 - accuracy: 0.8611 - val_loss: 0.4920 - val_accuracy: 0.7433\n",
            "Epoch 5/10\n",
            "259/259 [==============================] - 508s 2s/step - loss: 0.2754 - accuracy: 0.8804 - val_loss: 0.6086 - val_accuracy: 0.7550\n",
            "Epoch 6/10\n",
            "259/259 [==============================] - 501s 2s/step - loss: 0.2611 - accuracy: 0.8847 - val_loss: 0.4254 - val_accuracy: 0.8133\n",
            "Epoch 7/10\n",
            "259/259 [==============================] - 491s 2s/step - loss: 0.2512 - accuracy: 0.8885 - val_loss: 0.4703 - val_accuracy: 0.7800\n",
            "Epoch 8/10\n",
            "259/259 [==============================] - 503s 2s/step - loss: 0.2313 - accuracy: 0.9011 - val_loss: 0.4182 - val_accuracy: 0.8300\n",
            "Epoch 9/10\n",
            "259/259 [==============================] - 519s 2s/step - loss: 0.2193 - accuracy: 0.9001 - val_loss: 0.3731 - val_accuracy: 0.8283\n",
            "Epoch 10/10\n",
            "259/259 [==============================] - 500s 2s/step - loss: 0.2200 - accuracy: 0.9022 - val_loss: 0.3560 - val_accuracy: 0.8517\n"
          ]
        }
      ]
    },
    {
      "cell_type": "markdown",
      "metadata": {
        "id": "gBrEnMRTtxB0"
      },
      "source": [
        "## Evaluation"
      ]
    },
    {
      "cell_type": "code",
      "metadata": {
        "colab": {
          "base_uri": "https://localhost:8080/",
          "height": 300
        },
        "id": "qfOhuFvAtxB0",
        "outputId": "ec344c57-a0db-4b62-ec16-44ceba778fbc"
      },
      "source": [
        "acc = history.history['accuracy']\n",
        "val_acc = history.history['val_accuracy']\n",
        "#loss = history.history['loss']\n",
        "#val_loss = history.history['val_loss']\n",
        "\n",
        "epochs = range(len(acc))\n",
        "\n",
        "plt.plot(epochs, acc, 'r', label='Training accuracy')\n",
        "plt.plot(epochs, val_acc, 'b', label='Validation accuracy')\n",
        "plt.title('Training and Validation accuracy')\n",
        "plt.legend(loc=0)\n",
        "plt.figure()\n",
        "\n",
        "\n",
        "plt.show()"
      ],
      "execution_count": 31,
      "outputs": [
        {
          "output_type": "display_data",
          "data": {
            "image/png": "[encoded data removed]",
            "text/plain": [
              "<Figure size 432x288 with 1 Axes>"
            ]
          },
          "metadata": {
            "needs_background": "light"
          }
        },
        {
          "output_type": "display_data",
          "data": {
            "text/plain": [
              "<Figure size 432x288 with 0 Axes>"
            ]
          },
          "metadata": {}
        }
      ]
    },
    {
      "cell_type": "markdown",
      "metadata": {
        "id": "lwj7yfcMtxB1"
      },
      "source": [
        "## Save Model"
      ]
    },
    {
      "cell_type": "code",
      "metadata": {
        "id": "FuWlHqnktxB1"
      },
      "source": [
        "tf.keras.models.save_model(model, filepath=\"./my_model/OwnCNN_EfficientNetB3_99p.h5\", overwrite=True, save_format='h5')"
      ],
      "execution_count": 32,
      "outputs": []
    },
    {
      "cell_type": "markdown",
      "metadata": {
        "id": "pmJFsvUYtxB1"
      },
      "source": [
        "## Train Model - v2"
      ]
    },
    {
      "cell_type": "markdown",
      "metadata": {
        "id": "x2Rp4FCItxB2"
      },
      "source": [
        "### Load appended data\n",
        "Author provided extra data in a different directory during update."
      ]
    },
    {
      "cell_type": "code",
      "metadata": {
        "id": "zuf6jTULtxB2"
      },
      "source": [
        "main_path = \"data/chest_xray/\"\n",
        "\n",
        "test_dir, train_dir = os.path.join(main_path, \"test\"), os.path.join(main_path, \"train\")\n",
        "validation_dir = os.path.join(main_path, \"val\") "
      ],
      "execution_count": null,
      "outputs": []
    },
    {
      "cell_type": "code",
      "metadata": {
        "id": "zUnQ_NfQtxB2"
      },
      "source": [
        "train_datagen = ImageDataGenerator(\n",
        "    rescale=1.0/255.0, \n",
        "    rotation_range=10, \n",
        "    width_shift_range=0.3, \n",
        "    height_shift_range=0.3, \n",
        "    shear_range=0.2, \n",
        "    zoom_range=0.2, \n",
        "    horizontal_flip=True, \n",
        ")\n",
        "test_datagen = ImageDataGenerator(\n",
        "    rescale=1.0/255.0\n",
        ")\n",
        "val_datagen = ImageDataGenerator(\n",
        "    rescale=1.0/255.0\n",
        ")"
      ],
      "execution_count": null,
      "outputs": []
    },
    {
      "cell_type": "code",
      "metadata": {
        "id": "AGfeLdBztxB3"
      },
      "source": [
        "train_generator = train_datagen.flow_from_directory(\n",
        "    train_dir, \n",
        "    target_size=(150,150), \n",
        "    class_mode='binary', \n",
        "    batch_size=20\n",
        ")\n",
        "test_generator = test_datagen.flow_from_directory(\n",
        "    test_dir, \n",
        "    target_size=(150,150), \n",
        "    class_mode='binary', \n",
        "    batch_size=20\n",
        ")\n",
        "val_generator = val_datagen.flow_from_directory(\n",
        "    validation_dir, \n",
        "    target_size=(150,150), \n",
        "    class_mode='binary', \n",
        "    batch_size=20\n",
        ")"
      ],
      "execution_count": null,
      "outputs": []
    },
    {
      "cell_type": "markdown",
      "metadata": {
        "id": "kgp0QtRztxB3"
      },
      "source": [
        "### Second Training"
      ]
    },
    {
      "cell_type": "code",
      "metadata": {
        "id": "bF4QUaIotxB4"
      },
      "source": [
        "history = model.fit(\n",
        "    train_generator, \n",
        "    validation_data = test_generator,\n",
        "    #steps_per_epoch = 100,\n",
        "    epochs = 20,\n",
        "    validation_steps = 50,\n",
        "    verbose = 2\n",
        ")"
      ],
      "execution_count": null,
      "outputs": []
    },
    {
      "cell_type": "markdown",
      "metadata": {
        "id": "56ov3OuftxB4"
      },
      "source": [
        "### Second Evaluation"
      ]
    },
    {
      "cell_type": "code",
      "metadata": {
        "id": "qTQNr_6xtxB4"
      },
      "source": [
        "acc = history.history['accuracy']\n",
        "val_acc = history.history['val_accuracy']\n",
        "#loss = history.history['loss']\n",
        "#val_loss = history.history['val_loss']\n",
        "\n",
        "epochs = range(len(acc))\n",
        "\n",
        "plt.plot(epochs, acc, 'r', label='Training accuracy')\n",
        "plt.plot(epochs, val_acc, 'b', label='Validation accuracy')\n",
        "plt.title('Training and Validation accuracy')\n",
        "plt.legend(loc=0)\n",
        "plt.figure()\n",
        "\n",
        "\n",
        "plt.show()"
      ],
      "execution_count": null,
      "outputs": []
    },
    {
      "cell_type": "markdown",
      "metadata": {
        "id": "y17sKJJ1txB5"
      },
      "source": [
        "### Save Model\n",
        "Overwrite Previous Save"
      ]
    },
    {
      "cell_type": "code",
      "metadata": {
        "id": "O50J3gbKtxB5"
      },
      "source": [
        "tf.keras.models.save_model(model, filepath=\"./my_model/OwnCNN_EfficientNetB3_99p.h5\", overwrite=True, save_format='h5')"
      ],
      "execution_count": null,
      "outputs": []
    }
  ]
}