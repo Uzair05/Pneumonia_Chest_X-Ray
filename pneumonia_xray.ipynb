{
  "cells": [
    {
      "cell_type": "markdown",
      "metadata": {
        "id": "tL5WGz6gtxBG"
      },
      "source": [
        "# Pneumonia_Chest_X-Ray\n",
        "\n",
        "CNN image detection of pneumonia from chest xrays.  \n",
        "Project By: [Uzair Bin Asim](https://github.com/Uzair05)"
      ]
    },
    {
      "cell_type": "code",
      "execution_count": null,
      "metadata": {
        "id": "x7atDeVEuYyP"
      },
      "outputs": [],
      "source": [
        "from google.colab import drive\n",
        "drive.mount('/content/drive')"
      ]
    },
    {
      "cell_type": "code",
      "execution_count": null,
      "metadata": {
        "id": "ilCfhN-8txBP"
      },
      "outputs": [],
      "source": [
        "import os \n",
        "import zipfile"
      ]
    },
    {
      "cell_type": "markdown",
      "metadata": {
        "id": "ZLAr892ptxBV"
      },
      "source": [
        "## Download dataset\n",
        "Make sure to navigate to the proper directory."
      ]
    },
    {
      "cell_type": "code",
      "execution_count": null,
      "metadata": {
        "id": "egy58mzftxBX"
      },
      "outputs": [],
      "source": [
        "#!pip install --upgrade kaggle\n",
        "\n",
        "## Remeber to navigate to proper directory.\n",
        "!cd \"/content/drive/MyDrive/nih_xray\" && kaggle datasets download -d paultimothymooney/chest-xray-pneumonia"
      ]
    },
    {
      "cell_type": "code",
      "execution_count": null,
      "metadata": {
        "id": "FH1Rf2kbwJE5"
      },
      "outputs": [],
      "source": [
        "os.chdir(\"/content/drive/MyDrive/nih_xray\") ## Remeber to navigate to proper directory.\n",
        "print(os.getcwd())"
      ]
    },
    {
      "cell_type": "code",
      "execution_count": null,
      "metadata": {
        "id": "PzCPA0mHtxBa"
      },
      "outputs": [],
      "source": [
        "try:\n",
        "    if not os.path.isdir(\"./data\"):\n",
        "        os.mkdir(\"./data\")\n",
        "except Exception as err:\n",
        "    print(f\"Error in creating data/:\\t{err}\")\n",
        "\n",
        "if os.path.isfile(\"./chest-xray-pneumonia.zip\"):\n",
        "    localzip = \"./chest-xray-pneumonia.zip\"\n",
        "    with zipfile.ZipFile(localzip, 'r') as zip_ref:\n",
        "        zip_ref.extractall('data/')"
      ]
    },
    {
      "cell_type": "code",
      "execution_count": null,
      "metadata": {
        "id": "62V4BerDtxBd"
      },
      "outputs": [],
      "source": [
        "## Clean the dataspace\n",
        "!rm -rf data/chest_xray/__MACOSX && cd data/ && find -type f | grep -E \"\\.DS_Store\" | xargs -I{} rm {}"
      ]
    },
    {
      "cell_type": "markdown",
      "metadata": {
        "id": "6VCXH9m5txBh"
      },
      "source": [
        "## Handle Data\n",
        "Create the train, test, and validation datasets."
      ]
    },
    {
      "cell_type": "code",
      "execution_count": null,
      "metadata": {
        "id": "KMx9oZi3z7Zc"
      },
      "outputs": [],
      "source": [
        "#!pip install -q --upgrade tensorflow==2.7"
      ]
    },
    {
      "cell_type": "code",
      "execution_count": null,
      "metadata": {
        "id": "z1dInoiitxBi"
      },
      "outputs": [],
      "source": [
        "import numpy as np\n",
        "import pandas as pd\n",
        "import tensorflow as tf ## Using tensorflow==2.7\n",
        "import matplotlib.pyplot as plt"
      ]
    },
    {
      "cell_type": "code",
      "execution_count": null,
      "metadata": {
        "id": "zKF2CeSetxBk"
      },
      "outputs": [],
      "source": [
        "from tensorflow.keras.preprocessing.image import ImageDataGenerator"
      ]
    },
    {
      "cell_type": "code",
      "execution_count": null,
      "metadata": {
        "id": "J96DV5fotxBn"
      },
      "outputs": [],
      "source": [
        "main_path = \"data/chest_xray/chest_xray\"\n",
        "\n",
        "test_dir, train_dir = os.path.join(main_path, \"test\"), os.path.join(main_path, \"train\")\n",
        "validation_dir = os.path.join(main_path, \"val\") "
      ]
    },
    {
      "cell_type": "code",
      "execution_count": null,
      "metadata": {
        "id": "u6pMUnyXtxBp"
      },
      "outputs": [],
      "source": [
        "train_datagen = ImageDataGenerator(\n",
        "    rescale=1.0/255.0, \n",
        "    rotation_range=10, \n",
        "    width_shift_range=0.3, \n",
        "    height_shift_range=0.3, \n",
        "    shear_range=0.2, \n",
        "    zoom_range=0.2, \n",
        "    horizontal_flip=True, \n",
        "    fill_mode='nearest'\n",
        ")\n",
        "test_datagen = ImageDataGenerator(\n",
        "    rescale=1.0/255.0\n",
        ")\n",
        "val_datagen = ImageDataGenerator(\n",
        "    rescale=1.0/255.0\n",
        ")"
      ]
    },
    {
      "cell_type": "code",
      "execution_count": null,
      "metadata": {
        "colab": {
          "base_uri": "https://localhost:8080/"
        },
        "id": "yVUr4mrgtxBr",
        "outputId": "c8bc8e6b-a9c7-4257-bd7e-479a5efd8882"
      },
      "outputs": [],
      "source": [
        "train_generator = train_datagen.flow_from_directory(\n",
        "    train_dir, \n",
        "    target_size=(150,150), \n",
        "    class_mode='binary', \n",
        "    batch_size=60\n",
        ")\n",
        "test_generator = test_datagen.flow_from_directory(\n",
        "    test_dir, \n",
        "    target_size=(150,150), \n",
        "    class_mode='binary', \n",
        "    batch_size=20\n",
        ")\n",
        "val_generator = val_datagen.flow_from_directory(\n",
        "    validation_dir, \n",
        "    target_size=(150,150), \n",
        "    class_mode='binary', \n",
        "    batch_size=20\n",
        ")"
      ]
    },
    {
      "cell_type": "markdown",
      "metadata": {
        "id": "YdTUN6mWtxBu"
      },
      "source": [
        "## Create Model - v2"
      ]
    },
    {
      "cell_type": "code",
      "execution_count": null,
      "metadata": {
        "colab": {
          "base_uri": "https://localhost:8080/"
        },
        "id": "qiyJ8j2qtxBv",
        "outputId": "43a9c970-f7cf-4b79-f289-b2eadb9889cf"
      },
      "outputs": [],
      "source": [
        "model = tf.keras.models.Sequential([\n",
        "    tf.keras.layers.Conv2D(64, (3,3), activation=tf.nn.relu, padding='same', input_shape=(150,150, 3)),\n",
        "    tf.keras.layers.MaxPooling2D(2,2),\n",
        "    tf.keras.layers.Conv2D(64, (3,3), activation=tf.nn.relu, padding='same'),\n",
        "    tf.keras.layers.MaxPooling2D(2,2),\n",
        "    tf.keras.layers.Conv2D(64, (3,3), activation=tf.nn.relu, padding='same'),\n",
        "    tf.keras.layers.Flatten(), \n",
        "    tf.keras.layers.Dense(512, activation=tf.nn.relu),\n",
        "    tf.keras.layers.Dropout(0.3),\n",
        "    tf.keras.layers.Dense(512, activation=tf.nn.relu),\n",
        "    tf.keras.layers.Dropout(0.3),\n",
        "    tf.keras.layers.Dense(1, activation=tf.nn.sigmoid)\n",
        "])\n",
        "model.compile(\n",
        "    optimizer='adam', \n",
        "    loss='binary_crossentropy', \n",
        "    metrics=['accuracy']\n",
        ")\n",
        "model.summary()"
      ]
    },
    {
      "cell_type": "markdown",
      "metadata": {
        "id": "nNm4hWPbtxBw"
      },
      "source": [
        "## Train Model - v1"
      ]
    },
    {
      "cell_type": "code",
      "execution_count": null,
      "metadata": {
        "id": "hjEMrDOmtxBx"
      },
      "outputs": [],
      "source": [
        "class myCallback(tf.keras.callbacks.Callback):\n",
        "      def on_epoch_end(self, epoch, logs={}):\n",
        "        accuracy = 0.90 # Percentage Accuracy.\n",
        "        if(logs.get('accuracy') != None) and (logs.get('accuracy') >= accuracy): # Experiment with changing this value\n",
        "          print(f\"\\nReached {accuracy*100}% accuracy so cancelling training!\")\n",
        "          self.model.stop_training = True\n",
        "\n",
        "callbacks = myCallback()"
      ]
    },
    {
      "cell_type": "code",
      "execution_count": null,
      "metadata": {
        "colab": {
          "base_uri": "https://localhost:8080/"
        },
        "id": "-gvF4bwYtxBz",
        "outputId": "fe2b64e1-2fe5-4422-fe78-bf1117e745c0"
      },
      "outputs": [],
      "source": [
        "## Using Google Colab TPU\n",
        "history = model.fit(\n",
        "    train_generator, \n",
        "    validation_data = test_generator,\n",
        "    steps_per_epoch = 85, \n",
        "    epochs = 15,\n",
        "    validation_steps = 30,\n",
        "    verbose = 1, \n",
        "    callbacks=[callbacks]\n",
        ")"
      ]
    },
    {
      "cell_type": "markdown",
      "metadata": {
        "id": "gBrEnMRTtxB0"
      },
      "source": [
        "## Evaluation"
      ]
    },
    {
      "cell_type": "code",
      "execution_count": null,
      "metadata": {
        "id": "qfOhuFvAtxB0"
      },
      "outputs": [],
      "source": [
        "acc = history.history['accuracy']\n",
        "val_acc = history.history['val_accuracy']\n",
        "loss = history.history['loss']\n",
        "val_loss = history.history['val_loss']\n",
        "\n",
        "epochs = range(len(acc))\n",
        "\n",
        "plt.plot(epochs, acc, 'r', label='Training accuracy')\n",
        "plt.plot(epochs, val_acc, 'b', label='Validation accuracy')\n",
        "plt.title('Training and Validation accuracy')\n",
        "plt.legend(loc=0)\n",
        "plt.figure()\n",
        "\n",
        "\n",
        "plt.show()"
      ]
    },
    {
      "cell_type": "code",
      "execution_count": null,
      "metadata": {
        "id": "Lr29MENGMr9p"
      },
      "outputs": [],
      "source": [
        "print(f\"Evaluation accuracy with validation dataset:\\t{model.evaluate(val_generator)[-1]*100}%\")"
      ]
    },
    {
      "cell_type": "markdown",
      "metadata": {
        "id": "lwj7yfcMtxB1"
      },
      "source": [
        "## Save Model"
      ]
    },
    {
      "cell_type": "code",
      "execution_count": null,
      "metadata": {
        "id": "FuWlHqnktxB1"
      },
      "outputs": [],
      "source": [
        "#tf.keras.models.save_model(model, filepath=\"./my_model/OwnCNN_EfficientNetB3_99p.h5\", overwrite=True, save_format='h5')"
      ]
    }
  ],
  "metadata": {
    "accelerator": "TPU",
    "colab": {
      "collapsed_sections": [],
      "name": "pneumonia_xray.ipynb",
      "provenance": []
    },
    "interpreter": {
      "hash": "85c613298e2573a698747096a05ed0fa75bd0f57ffe828e7c5873ae05c08a3c6"
    },
    "kernelspec": {
      "display_name": "Python 3",
      "language": "python",
      "name": "python3"
    },
    "language_info": {
      "codemirror_mode": {
        "name": "ipython",
        "version": 3
      },
      "file_extension": ".py",
      "mimetype": "text/x-python",
      "name": "python",
      "nbconvert_exporter": "python",
      "pygments_lexer": "ipython3",
      "version": "3.9.7"
    }
  },
  "nbformat": 4,
  "nbformat_minor": 0
}
