{
 "cells": [
  {
   "cell_type": "markdown",
   "metadata": {},
   "source": [
    "# Pneumonia_Chest_X-Ray\n",
    "\n",
    "CNN image detection of pneumonia from chest xrays.  \n",
    "Project By: [Uzair Bin Asim](https://github.com/Uzair05)"
   ]
  },
  {
   "cell_type": "code",
   "execution_count": 1,
   "metadata": {},
   "outputs": [],
   "source": [
    "import os \n",
    "import zipfile"
   ]
  },
  {
   "cell_type": "markdown",
   "metadata": {},
   "source": [
    "## Download dataset"
   ]
  },
  {
   "cell_type": "code",
   "execution_count": null,
   "metadata": {},
   "outputs": [],
   "source": [
    "#!pip install --upgrade kaggle\n",
    "!kaggle datasets download -d paultimothymooney/chest-xray-pneumonia"
   ]
  },
  {
   "cell_type": "code",
   "execution_count": null,
   "metadata": {},
   "outputs": [],
   "source": [
    "try:\n",
    "    if not os.path.isdir(\"./data\"):\n",
    "        os.mkdir(\"./data\")\n",
    "except Exception as err:\n",
    "    print(f\"Error in creating data/:\\t{err}\")\n",
    "\n",
    "if os.path.isfile(\"./chest-xray-pneumonia.zip\"):\n",
    "    localzip = \"./chest-xray-pneumonia.zip\"\n",
    "    with zipfile.ZipFile(localzip, 'r') as zip_ref:\n",
    "        zip_ref.extractall('data/')"
   ]
  },
  {
   "cell_type": "code",
   "execution_count": null,
   "metadata": {},
   "outputs": [],
   "source": [
    "## Clean the dataspace\n",
    "# !rm -rf data/chest_xray/__MACOSX\n",
    "# !cd data/ && find -type f | grep -E \"\\.DS_Store\" | xargs -I{} rm {}"
   ]
  },
  {
   "cell_type": "markdown",
   "metadata": {},
   "source": [
    "## Handle Data\n",
    "Create the train, test, and validation datasets."
   ]
  },
  {
   "cell_type": "code",
   "execution_count": null,
   "metadata": {},
   "outputs": [],
   "source": [
    "#!pip install --upgrade tensorflow-gpu==2.4.1"
   ]
  },
  {
   "cell_type": "code",
   "execution_count": 2,
   "metadata": {},
   "outputs": [
    {
     "name": "stdout",
     "output_type": "stream",
     "text": [
      "2.4.1\n"
     ]
    }
   ],
   "source": [
    "import numpy as np\n",
    "import pandas as pd\n",
    "import tensorflow as tf\n",
    "import matplotlib.pyplot as plt\n",
    "\n",
    "print(tf.__version__)"
   ]
  },
  {
   "cell_type": "code",
   "execution_count": 3,
   "metadata": {},
   "outputs": [],
   "source": [
    "from tensorflow.keras.preprocessing.image import ImageDataGenerator"
   ]
  },
  {
   "cell_type": "code",
   "execution_count": 4,
   "metadata": {},
   "outputs": [],
   "source": [
    "main_path = \"data/chest_xray/chest_xray\"\n",
    "\n",
    "test_dir, train_dir = os.path.join(main_path, \"test\"), os.path.join(main_path, \"train\")\n",
    "validation_dir = os.path.join(main_path, \"val\") "
   ]
  },
  {
   "cell_type": "code",
   "execution_count": 5,
   "metadata": {},
   "outputs": [],
   "source": [
    "train_datagen = ImageDataGenerator(\n",
    "    rescale=1.0/255.0, \n",
    "    rotation_range=10, \n",
    "    width_shift_range=0.3, \n",
    "    height_shift_range=0.3, \n",
    "    shear_range=0.2, \n",
    "    zoom_range=0.2, \n",
    "    horizontal_flip=True, \n",
    "    fill_mode='nearest'\n",
    ")\n",
    "test_datagen = ImageDataGenerator(\n",
    "    rescale=1.0/255.0\n",
    ")\n",
    "val_datagen = ImageDataGenerator(\n",
    "    rescale=1.0/255.0\n",
    ")"
   ]
  },
  {
   "cell_type": "code",
   "execution_count": 6,
   "metadata": {},
   "outputs": [
    {
     "name": "stdout",
     "output_type": "stream",
     "text": [
      "Found 5216 images belonging to 2 classes.\n",
      "Found 624 images belonging to 2 classes.\n",
      "Found 16 images belonging to 2 classes.\n"
     ]
    }
   ],
   "source": [
    "train_generator = train_datagen.flow_from_directory(\n",
    "    train_dir, \n",
    "    target_size=(150,150), \n",
    "    class_mode='binary', \n",
    "    batch_size=60\n",
    ")\n",
    "test_generator = test_datagen.flow_from_directory(\n",
    "    test_dir, \n",
    "    target_size=(150,150), \n",
    "    class_mode='binary', \n",
    "    batch_size=20\n",
    ")\n",
    "val_generator = val_datagen.flow_from_directory(\n",
    "    validation_dir, \n",
    "    target_size=(150,150), \n",
    "    class_mode='binary', \n",
    "    batch_size=20\n",
    ")"
   ]
  },
  {
   "cell_type": "markdown",
   "metadata": {},
   "source": [
    "## Create Model - v2"
   ]
  },
  {
   "cell_type": "code",
   "execution_count": 7,
   "metadata": {},
   "outputs": [
    {
     "name": "stdout",
     "output_type": "stream",
     "text": [
      "Model: \"sequential\"\n",
      "_________________________________________________________________\n",
      "Layer (type)                 Output Shape              Param #   \n",
      "=================================================================\n",
      "conv2d (Conv2D)              (None, 150, 150, 64)      1792      \n",
      "_________________________________________________________________\n",
      "max_pooling2d (MaxPooling2D) (None, 75, 75, 64)        0         \n",
      "_________________________________________________________________\n",
      "conv2d_1 (Conv2D)            (None, 75, 75, 64)        36928     \n",
      "_________________________________________________________________\n",
      "max_pooling2d_1 (MaxPooling2 (None, 37, 37, 64)        0         \n",
      "_________________________________________________________________\n",
      "conv2d_2 (Conv2D)            (None, 37, 37, 64)        36928     \n",
      "_________________________________________________________________\n",
      "flatten (Flatten)            (None, 87616)             0         \n",
      "_________________________________________________________________\n",
      "dense (Dense)                (None, 512)               44859904  \n",
      "_________________________________________________________________\n",
      "dropout (Dropout)            (None, 512)               0         \n",
      "_________________________________________________________________\n",
      "dense_1 (Dense)              (None, 512)               262656    \n",
      "_________________________________________________________________\n",
      "dropout_1 (Dropout)          (None, 512)               0         \n",
      "_________________________________________________________________\n",
      "dense_2 (Dense)              (None, 1)                 513       \n",
      "=================================================================\n",
      "Total params: 45,198,721\n",
      "Trainable params: 45,198,721\n",
      "Non-trainable params: 0\n",
      "_________________________________________________________________\n"
     ]
    }
   ],
   "source": [
    "model = tf.keras.models.Sequential([\n",
    "    tf.keras.layers.Conv2D(64, (3,3), activation=tf.nn.relu, padding='same', input_shape=(150,150, 3)),\n",
    "    tf.keras.layers.MaxPooling2D(2,2),\n",
    "    tf.keras.layers.Conv2D(64, (3,3), activation=tf.nn.relu, padding='same'),\n",
    "    tf.keras.layers.MaxPooling2D(2,2),\n",
    "    tf.keras.layers.Conv2D(64, (3,3), activation=tf.nn.relu, padding='same'),\n",
    "    tf.keras.layers.Flatten(), \n",
    "    tf.keras.layers.Dense(512, activation=tf.nn.relu),\n",
    "    tf.keras.layers.Dropout(0.3),\n",
    "    tf.keras.layers.Dense(512, activation=tf.nn.relu),\n",
    "    tf.keras.layers.Dropout(0.3),\n",
    "    tf.keras.layers.Dense(1, activation=tf.nn.sigmoid)\n",
    "])\n",
    "model.compile(\n",
    "    #optimizer='adam', \n",
    "    optimizer=tf.keras.optimizers.Adam(learning_rate=0.0001), \n",
    "    #loss=\"binary_crossentropy\", \n",
    "    loss=tf.keras.losses.BinaryCrossentropy(), \n",
    "    metrics=['accuracy']\n",
    ")\n",
    "model.summary()"
   ]
  },
  {
   "cell_type": "markdown",
   "metadata": {},
   "source": [
    "## Train Model - v1"
   ]
  },
  {
   "cell_type": "code",
   "execution_count": 8,
   "metadata": {},
   "outputs": [],
   "source": [
    "class myCallback(tf.keras.callbacks.Callback):\n",
    "      def on_epoch_end(self, epoch, logs={}):\n",
    "        accuracy = 0.95 # Percentage Accuracy.\n",
    "        if(logs.get('accuracy') != None) and (logs.get('accuracy') >= accuracy): # Experiment with changing this value\n",
    "          print(f\"\\nReached {accuracy*100}% accuracy so cancelling training!\")\n",
    "          self.model.stop_training = True\n",
    "\n",
    "callbacks = myCallback()"
   ]
  },
  {
   "cell_type": "code",
   "execution_count": 9,
   "metadata": {},
   "outputs": [
    {
     "name": "stdout",
     "output_type": "stream",
     "text": [
      "Epoch 1/30\n",
      "85/85 [==============================] - 126s 1s/step - loss: 0.5832 - accuracy: 0.7342 - val_loss: 0.6186 - val_accuracy: 0.6250\n",
      "Epoch 2/30\n",
      "85/85 [==============================] - 124s 1s/step - loss: 0.4521 - accuracy: 0.7821 - val_loss: 0.4541 - val_accuracy: 0.7933\n",
      "Epoch 3/30\n",
      "85/85 [==============================] - 123s 1s/step - loss: 0.3403 - accuracy: 0.8426 - val_loss: 0.3581 - val_accuracy: 0.8467\n",
      "Epoch 4/30\n",
      "85/85 [==============================] - 124s 1s/step - loss: 0.2909 - accuracy: 0.8697 - val_loss: 0.3645 - val_accuracy: 0.8233\n",
      "Epoch 5/30\n",
      "85/85 [==============================] - 124s 1s/step - loss: 0.2605 - accuracy: 0.8895 - val_loss: 0.3337 - val_accuracy: 0.8550\n",
      "Epoch 6/30\n",
      "85/85 [==============================] - 124s 1s/step - loss: 0.2552 - accuracy: 0.8875 - val_loss: 0.3490 - val_accuracy: 0.8650\n",
      "Epoch 7/30\n",
      "85/85 [==============================] - 122s 1s/step - loss: 0.2317 - accuracy: 0.9066 - val_loss: 0.3437 - val_accuracy: 0.8783\n",
      "Epoch 8/30\n",
      "85/85 [==============================] - 123s 1s/step - loss: 0.2288 - accuracy: 0.9062 - val_loss: 0.4285 - val_accuracy: 0.8517\n",
      "Epoch 9/30\n",
      "85/85 [==============================] - 123s 1s/step - loss: 0.2206 - accuracy: 0.9060 - val_loss: 0.3326 - val_accuracy: 0.8400\n",
      "Epoch 10/30\n",
      "85/85 [==============================] - 123s 1s/step - loss: 0.2410 - accuracy: 0.9074 - val_loss: 0.3714 - val_accuracy: 0.8767\n",
      "Epoch 11/30\n",
      "85/85 [==============================] - 123s 1s/step - loss: 0.2099 - accuracy: 0.9154 - val_loss: 0.3021 - val_accuracy: 0.8850\n",
      "Epoch 12/30\n",
      "85/85 [==============================] - 123s 1s/step - loss: 0.2055 - accuracy: 0.9221 - val_loss: 0.3783 - val_accuracy: 0.8450\n",
      "Epoch 13/30\n",
      "85/85 [==============================] - 123s 1s/step - loss: 0.1964 - accuracy: 0.9230 - val_loss: 0.3156 - val_accuracy: 0.8833\n",
      "Epoch 14/30\n",
      "85/85 [==============================] - 123s 1s/step - loss: 0.2151 - accuracy: 0.9094 - val_loss: 0.4434 - val_accuracy: 0.8467\n",
      "Epoch 15/30\n",
      "85/85 [==============================] - 123s 1s/step - loss: 0.1823 - accuracy: 0.9282 - val_loss: 0.2821 - val_accuracy: 0.8817\n",
      "Epoch 16/30\n",
      "85/85 [==============================] - 124s 1s/step - loss: 0.1912 - accuracy: 0.9194 - val_loss: 0.2964 - val_accuracy: 0.8867\n",
      "Epoch 17/30\n",
      "85/85 [==============================] - 120s 1s/step - loss: 0.2017 - accuracy: 0.9084 - val_loss: 0.2751 - val_accuracy: 0.8867\n",
      "Epoch 18/30\n",
      "85/85 [==============================] - 123s 1s/step - loss: 0.1784 - accuracy: 0.9246 - val_loss: 0.2758 - val_accuracy: 0.8850\n",
      "Epoch 19/30\n",
      "85/85 [==============================] - 122s 1s/step - loss: 0.1873 - accuracy: 0.9159 - val_loss: 0.2999 - val_accuracy: 0.8767\n",
      "Epoch 20/30\n",
      "85/85 [==============================] - 124s 1s/step - loss: 0.1870 - accuracy: 0.9211 - val_loss: 0.3222 - val_accuracy: 0.8633\n",
      "Epoch 21/30\n",
      "85/85 [==============================] - 124s 1s/step - loss: 0.1926 - accuracy: 0.9237 - val_loss: 0.2736 - val_accuracy: 0.8833\n",
      "Epoch 22/30\n",
      "85/85 [==============================] - 122s 1s/step - loss: 0.1910 - accuracy: 0.9230 - val_loss: 0.2584 - val_accuracy: 0.8933\n",
      "Epoch 23/30\n",
      "85/85 [==============================] - 124s 1s/step - loss: 0.1919 - accuracy: 0.9243 - val_loss: 0.2758 - val_accuracy: 0.8733\n",
      "Epoch 24/30\n",
      "85/85 [==============================] - 123s 1s/step - loss: 0.1694 - accuracy: 0.9333 - val_loss: 0.3439 - val_accuracy: 0.8733\n",
      "Epoch 25/30\n",
      "85/85 [==============================] - 121s 1s/step - loss: 0.1691 - accuracy: 0.9254 - val_loss: 0.3460 - val_accuracy: 0.8717\n",
      "Epoch 26/30\n",
      "85/85 [==============================] - 122s 1s/step - loss: 0.1596 - accuracy: 0.9371 - val_loss: 0.3253 - val_accuracy: 0.8767\n",
      "Epoch 27/30\n",
      "85/85 [==============================] - 125s 1s/step - loss: 0.1903 - accuracy: 0.9173 - val_loss: 0.3035 - val_accuracy: 0.8767\n",
      "Epoch 28/30\n",
      "85/85 [==============================] - 123s 1s/step - loss: 0.1621 - accuracy: 0.9314 - val_loss: 0.2866 - val_accuracy: 0.8817\n",
      "Epoch 29/30\n",
      "85/85 [==============================] - 122s 1s/step - loss: 0.1577 - accuracy: 0.9346 - val_loss: 0.4825 - val_accuracy: 0.8183\n",
      "Epoch 30/30\n",
      "85/85 [==============================] - 121s 1s/step - loss: 0.1590 - accuracy: 0.9396 - val_loss: 0.2960 - val_accuracy: 0.8850\n"
     ]
    }
   ],
   "source": [
    "history = model.fit(\n",
    "    train_generator, \n",
    "    validation_data = test_generator,\n",
    "    steps_per_epoch = 85, \n",
    "    epochs = 30,\n",
    "    validation_steps = 30,\n",
    "    verbose = 1, \n",
    "    callbacks=[callbacks]\n",
    ")"
   ]
  },
  {
   "cell_type": "markdown",
   "metadata": {},
   "source": [
    "## Evaluation"
   ]
  },
  {
   "cell_type": "code",
   "execution_count": 10,
   "metadata": {},
   "outputs": [
    {
     "data": {
      "image/png": "[encoded data removed]",
      "text/plain": [
       "<Figure size 432x288 with 1 Axes>"
      ]
     },
     "metadata": {
      "needs_background": "light"
     },
     "output_type": "display_data"
    },
    {
     "data": {
      "text/plain": [
       "<Figure size 432x288 with 0 Axes>"
      ]
     },
     "metadata": {},
     "output_type": "display_data"
    }
   ],
   "source": [
    "acc = history.history['accuracy']\n",
    "val_acc = history.history['val_accuracy']\n",
    "loss = history.history['loss']\n",
    "val_loss = history.history['val_loss']\n",
    "\n",
    "epochs = range(len(acc))\n",
    "\n",
    "plt.plot(epochs, acc, 'r', label='Training accuracy')\n",
    "plt.plot(epochs, val_acc, 'b', label='Validation accuracy')\n",
    "plt.title('Training and Validation accuracy')\n",
    "plt.legend(loc=0)\n",
    "plt.figure()\n",
    "\n",
    "\n",
    "plt.show()"
   ]
  },
  {
   "cell_type": "code",
   "execution_count": 11,
   "metadata": {},
   "outputs": [
    {
     "name": "stdout",
     "output_type": "stream",
     "text": [
      "1/1 [==============================] - 0s 338ms/step - loss: 0.6028 - accuracy: 0.7500\n",
      "Evaluation accuracy with validation dataset:\t75.0%\n"
     ]
    }
   ],
   "source": [
    "print(f\"Evaluation accuracy with validation dataset:\\t{model.evaluate(val_generator)[-1]*100}%\")"
   ]
  },
  {
   "cell_type": "markdown",
   "metadata": {},
   "source": [
    "## Save Model"
   ]
  },
  {
   "cell_type": "code",
   "execution_count": null,
   "metadata": {},
   "outputs": [],
   "source": [
    "#tf.keras.models.save_model(model, filepath=\"./my_model/OwnCNN_EfficientNetB3_99p.h5\", overwrite=True, save_format='h5')"
   ]
  }
 ],
 "metadata": {
  "interpreter": {
   "hash": "85c613298e2573a698747096a05ed0fa75bd0f57ffe828e7c5873ae05c08a3c6"
  },
  "kernelspec": {
   "display_name": "Python 3",
   "language": "python",
   "name": "python3"
  },
  "language_info": {
   "codemirror_mode": {
    "name": "ipython",
    "version": 3
   },
   "file_extension": ".py",
   "mimetype": "text/x-python",
   "name": "python",
   "nbconvert_exporter": "python",
   "pygments_lexer": "ipython3",
   "version": "3.8.12"
  }
 },
 "nbformat": 4,
 "nbformat_minor": 2
}
