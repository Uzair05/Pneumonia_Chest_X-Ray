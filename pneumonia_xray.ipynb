{
  "nbformat": 4,
  "nbformat_minor": 0,
  "metadata": {
    "accelerator": "TPU",
    "colab": {
      "name": "pneumonia_xray.ipynb",
      "provenance": [],
      "collapsed_sections": []
    },
    "interpreter": {
      "hash": "85c613298e2573a698747096a05ed0fa75bd0f57ffe828e7c5873ae05c08a3c6"
    },
    "kernelspec": {
      "display_name": "Python 3",
      "language": "python",
      "name": "python3"
    },
    "language_info": {
      "codemirror_mode": {
        "name": "ipython",
        "version": 3
      },
      "file_extension": ".py",
      "mimetype": "text/x-python",
      "name": "python",
      "nbconvert_exporter": "python",
      "pygments_lexer": "ipython3",
      "version": "3.9.7"
    }
  },
  "cells": [
    {
      "cell_type": "markdown",
      "metadata": {
        "id": "tL5WGz6gtxBG"
      },
      "source": [
        "# Pneumonia_Chest_X-Ray\n",
        "\n",
        "CNN image detection of pneumonia from chest xrays.  \n",
        "Project By: [Uzair Bin Asim](https://github.com/Uzair05)"
      ]
    },
    {
      "cell_type": "code",
      "metadata": {
        "id": "x7atDeVEuYyP"
      },
      "source": [
        "from google.colab import drive\n",
        "drive.mount('/content/drive')"
      ],
      "execution_count": null,
      "outputs": []
    },
    {
      "cell_type": "code",
      "metadata": {
        "id": "ilCfhN-8txBP"
      },
      "source": [
        "import os \n",
        "import zipfile"
      ],
      "execution_count": 2,
      "outputs": []
    },
    {
      "cell_type": "markdown",
      "metadata": {
        "id": "ZLAr892ptxBV"
      },
      "source": [
        "## Download dataset\n",
        "Make sure to navigate to the proper directory."
      ]
    },
    {
      "cell_type": "code",
      "metadata": {
        "id": "egy58mzftxBX"
      },
      "source": [
        "#!pip install --upgrade kaggle\n",
        "\n",
        "## Remeber to navigate to proper directory.\n",
        "!cd \"/content/drive/MyDrive/nih_xray\" && kaggle datasets download -d paultimothymooney/chest-xray-pneumonia"
      ],
      "execution_count": null,
      "outputs": []
    },
    {
      "cell_type": "code",
      "metadata": {
        "id": "FH1Rf2kbwJE5",
        "colab": {
          "base_uri": "https://localhost:8080/"
        },
        "outputId": "47974386-5460-4fc7-d002-3ef7b2bab994"
      },
      "source": [
        "os.chdir(\"/content/drive/MyDrive/nih_xray\") ## Remeber to navigate to proper directory.\n",
        "print(os.getcwd())"
      ],
      "execution_count": 8,
      "outputs": [
        {
          "output_type": "stream",
          "name": "stdout",
          "text": [
            "/content/drive/MyDrive/nih_xray\n"
          ]
        }
      ]
    },
    {
      "cell_type": "code",
      "metadata": {
        "id": "PzCPA0mHtxBa"
      },
      "source": [
        "try:\n",
        "    if not os.path.isdir(\"./data\"):\n",
        "        os.mkdir(\"./data\")\n",
        "except Exception as err:\n",
        "    print(f\"Error in creating data/:\\t{err}\")\n",
        "\n",
        "if os.path.isfile(\"./chest-xray-pneumonia.zip\"):\n",
        "    localzip = \"./chest-xray-pneumonia.zip\"\n",
        "    with zipfile.ZipFile(localzip, 'r') as zip_ref:\n",
        "        zip_ref.extractall('data/')"
      ],
      "execution_count": null,
      "outputs": []
    },
    {
      "cell_type": "code",
      "metadata": {
        "id": "62V4BerDtxBd"
      },
      "source": [
        "## Clean the dataspace\n",
        "!rm -rf data/chest_xray/__MACOSX && cd data/ && find -type f | grep -E \"\\.DS_Store\" | xargs -I{} rm {}"
      ],
      "execution_count": null,
      "outputs": []
    },
    {
      "cell_type": "markdown",
      "metadata": {
        "id": "6VCXH9m5txBh"
      },
      "source": [
        "## Handle Data\n",
        "Create the train, test, and validation datasets."
      ]
    },
    {
      "cell_type": "code",
      "metadata": {
        "id": "KMx9oZi3z7Zc"
      },
      "source": [
        "#!pip install -q --upgrade tensorflow==2.7"
      ],
      "execution_count": null,
      "outputs": []
    },
    {
      "cell_type": "code",
      "metadata": {
        "id": "z1dInoiitxBi"
      },
      "source": [
        "import numpy as np\n",
        "import pandas as pd\n",
        "import tensorflow as tf ## Using tensorflow==2.7\n",
        "import matplotlib.pyplot as plt"
      ],
      "execution_count": 3,
      "outputs": []
    },
    {
      "cell_type": "code",
      "metadata": {
        "id": "zKF2CeSetxBk"
      },
      "source": [
        "from tensorflow.keras.preprocessing.image import ImageDataGenerator"
      ],
      "execution_count": 4,
      "outputs": []
    },
    {
      "cell_type": "code",
      "metadata": {
        "id": "J96DV5fotxBn"
      },
      "source": [
        "main_path = \"data/chest_xray/chest_xray\"\n",
        "\n",
        "test_dir, train_dir = os.path.join(main_path, \"test\"), os.path.join(main_path, \"train\")\n",
        "validation_dir = os.path.join(main_path, \"val\") "
      ],
      "execution_count": 5,
      "outputs": []
    },
    {
      "cell_type": "code",
      "metadata": {
        "id": "u6pMUnyXtxBp"
      },
      "source": [
        "train_datagen = ImageDataGenerator(\n",
        "    rescale=1.0/255.0, \n",
        "    rotation_range=10, \n",
        "    width_shift_range=0.3, \n",
        "    height_shift_range=0.3, \n",
        "    shear_range=0.2, \n",
        "    zoom_range=0.2, \n",
        "    horizontal_flip=True, \n",
        "    fill_mode='nearest'\n",
        ")\n",
        "test_datagen = ImageDataGenerator(\n",
        "    rescale=1.0/255.0\n",
        ")\n",
        "val_datagen = ImageDataGenerator(\n",
        "    rescale=1.0/255.0\n",
        ")"
      ],
      "execution_count": 6,
      "outputs": []
    },
    {
      "cell_type": "code",
      "metadata": {
        "colab": {
          "base_uri": "https://localhost:8080/"
        },
        "id": "yVUr4mrgtxBr",
        "outputId": "eb5082fd-f87c-4454-db06-0a006029caeb"
      },
      "source": [
        "train_generator = train_datagen.flow_from_directory(\n",
        "    train_dir, \n",
        "    target_size=(150,150), \n",
        "    class_mode='binary', \n",
        "    batch_size=60\n",
        ")\n",
        "test_generator = test_datagen.flow_from_directory(\n",
        "    test_dir, \n",
        "    target_size=(150,150), \n",
        "    class_mode='binary', \n",
        "    batch_size=20\n",
        ")\n",
        "val_generator = val_datagen.flow_from_directory(\n",
        "    validation_dir, \n",
        "    target_size=(150,150), \n",
        "    class_mode='binary', \n",
        "    batch_size=20\n",
        ")"
      ],
      "execution_count": 9,
      "outputs": [
        {
          "output_type": "stream",
          "name": "stdout",
          "text": [
            "Found 5216 images belonging to 2 classes.\n",
            "Found 624 images belonging to 2 classes.\n",
            "Found 16 images belonging to 2 classes.\n"
          ]
        }
      ]
    },
    {
      "cell_type": "markdown",
      "metadata": {
        "id": "YdTUN6mWtxBu"
      },
      "source": [
        "## Create Model - v2"
      ]
    },
    {
      "cell_type": "code",
      "metadata": {
        "id": "qiyJ8j2qtxBv"
      },
      "source": [
        "# detect and init the TPU\n",
        "tpu = tf.distribute.cluster_resolver.TPUClusterResolver.connect()\n",
        "\n",
        "# instantiate a distribution strategy\n",
        "tpu_strategy = tf.distribute.experimental.TPUStrategy(tpu)\n",
        "\n",
        "# instantiating the model in the strategy scope creates the model on the TPU\n",
        "with tpu_strategy.scope():\n",
        "    model = tf.keras.models.Sequential([\n",
        "        tf.keras.layers.Conv2D(64, (3,3), activation=tf.nn.relu, padding='same', input_shape=(150,150, 3)),\n",
        "        tf.keras.layers.MaxPooling2D(2,2),\n",
        "        tf.keras.layers.Conv2D(64, (3,3), activation=tf.nn.relu, padding='same'),\n",
        "        tf.keras.layers.MaxPooling2D(2,2),\n",
        "        tf.keras.layers.Conv2D(64, (3,3), activation=tf.nn.relu, padding='same'),\n",
        "        tf.keras.layers.Flatten(), \n",
        "        tf.keras.layers.Dense(512, activation=tf.nn.relu),\n",
        "        tf.keras.layers.Dropout(0.3),\n",
        "        tf.keras.layers.Dense(512, activation=tf.nn.relu),\n",
        "        tf.keras.layers.Dropout(0.3),\n",
        "        tf.keras.layers.Dense(1, activation=tf.nn.sigmoid)\n",
        "])\n",
        "    model.compile(\n",
        "        #optimizer='adam', \n",
        "        optimizer=tf.keras.optimizers.Adam(learning_rate=0.0005), \n",
        "        #loss='binary_crossentropy', \n",
        "        loss=tf.keras.losses.BinaryCrossentropy(), \n",
        "        metrics=['accuracy']\n",
        ")\n",
        "model.summary()"
      ],
      "execution_count": null,
      "outputs": []
    },
    {
      "cell_type": "markdown",
      "metadata": {
        "id": "nNm4hWPbtxBw"
      },
      "source": [
        "## Train Model - v1"
      ]
    },
    {
      "cell_type": "code",
      "metadata": {
        "id": "hjEMrDOmtxBx"
      },
      "source": [
        "class myCallback(tf.keras.callbacks.Callback):\n",
        "      def on_epoch_end(self, epoch, logs={}):\n",
        "        accuracy = 0.90 # Percentage Accuracy.\n",
        "        if(logs.get('accuracy') != None) and (logs.get('accuracy') >= accuracy): # Experiment with changing this value\n",
        "          print(f\"\\nReached {accuracy*100}% accuracy so cancelling training!\")\n",
        "          self.model.stop_training = True\n",
        "\n",
        "callbacks = myCallback()"
      ],
      "execution_count": 11,
      "outputs": []
    },
    {
      "cell_type": "code",
      "metadata": {
        "id": "-gvF4bwYtxBz"
      },
      "source": [
        "## Using Google Colab TPU\n",
        "\n",
        "train_generator_tpu = tf.data.Dataset.from_tensor_slices(train_generator)\n",
        "test_generator_tpu = tf.data.Dataset.from_tensor_slices(test_generator)\n",
        "\n",
        "history = model.fit(\n",
        "    train_generator_tpu, \n",
        "    validation_data = test_generator_tpu,\n",
        "    steps_per_epoch = 85, \n",
        "    epochs = 15,\n",
        "    validation_steps = 30,\n",
        "    verbose = 1, \n",
        "    #callbacks=[callbacks]\n",
        ")"
      ],
      "execution_count": null,
      "outputs": []
    },
    {
      "cell_type": "markdown",
      "metadata": {
        "id": "gBrEnMRTtxB0"
      },
      "source": [
        "## Evaluation"
      ]
    },
    {
      "cell_type": "code",
      "metadata": {
        "id": "qfOhuFvAtxB0"
      },
      "source": [
        "acc = history.history['accuracy']\n",
        "val_acc = history.history['val_accuracy']\n",
        "loss = history.history['loss']\n",
        "val_loss = history.history['val_loss']\n",
        "\n",
        "epochs = range(len(acc))\n",
        "\n",
        "plt.plot(epochs, acc, 'r', label='Training accuracy')\n",
        "plt.plot(epochs, val_acc, 'b', label='Validation accuracy')\n",
        "plt.title('Training and Validation accuracy')\n",
        "plt.legend(loc=0)\n",
        "plt.figure()\n",
        "\n",
        "\n",
        "plt.show()"
      ],
      "execution_count": null,
      "outputs": []
    },
    {
      "cell_type": "code",
      "metadata": {
        "id": "Lr29MENGMr9p"
      },
      "source": [
        "print(f\"Evaluation accuracy with validation dataset:\\t{model.evaluate(val_generator)[-1]*100}%\")"
      ],
      "execution_count": null,
      "outputs": []
    },
    {
      "cell_type": "markdown",
      "metadata": {
        "id": "lwj7yfcMtxB1"
      },
      "source": [
        "## Save Model"
      ]
    },
    {
      "cell_type": "code",
      "metadata": {
        "id": "FuWlHqnktxB1"
      },
      "source": [
        "#tf.keras.models.save_model(model, filepath=\"./my_model/OwnCNN_EfficientNetB3_99p.h5\", overwrite=True, save_format='h5')"
      ],
      "execution_count": null,
      "outputs": []
    }
  ]
}